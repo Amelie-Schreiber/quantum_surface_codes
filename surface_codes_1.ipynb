{
 "cells": [
  {
   "cell_type": "code",
   "execution_count": 1,
   "metadata": {},
   "outputs": [
    {
     "name": "stdout",
     "output_type": "stream",
     "text": [
      "Requirement already satisfied: pylatexenc in /Users/amelieschreiber/opt/anaconda3/lib/python3.9/site-packages (2.10)\n",
      "Note: you may need to restart the kernel to use updated packages.\n"
     ]
    }
   ],
   "source": [
    "pip install pylatexenc"
   ]
  },
  {
   "cell_type": "markdown",
   "metadata": {},
   "source": [
    "# Surface Codes Tutorial I"
   ]
  },
  {
   "cell_type": "markdown",
   "metadata": {},
   "source": [
    "In this notebook we're going to take a look at one of the most widely used and well studied forms of quantum error correction and fault tolerant quantum computing, surface codes. Surface codes are a way of encoding logical qubits into several physical qubits and use topological properties of the connectivity of the qubits to protect against errors. One connection we will need to make clear from the beginning is a connection to number theory and combinatorial topology via so-called \"ribbon graphs\" or \"dessins d'enfants\". "
   ]
  },
  {
   "cell_type": "markdown",
   "metadata": {},
   "source": [
    "Let's import a few things we will need. "
   ]
  },
  {
   "cell_type": "code",
   "execution_count": 2,
   "metadata": {},
   "outputs": [],
   "source": [
    "from typing import Tuple, List, Union, Any, Dict\n",
    "\n",
    "#from qiskit.circuit import QuantumCircuit, QuantumRegister, ClassicalRegister\n",
    "#from qiskit.circuit.measure import measure\n",
    "#from networkx import nx\n",
    "#import qiskit\n",
    "#from sympy.combinatorics import Permutation\n",
    "\n",
    "\n",
    "import networkx as nx\n",
    "from networkx.classes.multigraph import MultiGraph\n",
    "from networkx.algorithms import bipartite\n",
    "from sympy.combinatorics import Permutation, PermutationGroup\n",
    "from qiskit import *"
   ]
  },
  {
   "cell_type": "markdown",
   "metadata": {},
   "source": [
    "Now, we define the following Python function to compute measurements in the Pauli $X$-basis rather than in the $Z$-basis. Remember, If we conjugate the $Z$-operator by Hadamard gates, we get an $X$-gate,"
   ]
  },
  {
   "cell_type": "markdown",
   "metadata": {},
   "source": [
    "$$HZH^{\\dagger} = HZH = X.$$"
   ]
  },
  {
   "cell_type": "markdown",
   "metadata": {},
   "source": [
    "So, if we want to measure in the $X$-basis we need this conjugation."
   ]
  },
  {
   "cell_type": "code",
   "execution_count": 3,
   "metadata": {},
   "outputs": [
    {
     "ename": "NameError",
     "evalue": "name 'qiskit' is not defined",
     "output_type": "error",
     "traceback": [
      "\u001b[0;31m---------------------------------------------------------------------------\u001b[0m",
      "\u001b[0;31mNameError\u001b[0m                                 Traceback (most recent call last)",
      "\u001b[0;32m/var/folders/1h/8r110l8x0gx4230j9ml6qptm0000gn/T/ipykernel_54939/1007777382.py\u001b[0m in \u001b[0;36m<module>\u001b[0;34m\u001b[0m\n\u001b[0;32m----> 1\u001b[0;31m \u001b[0;32mdef\u001b[0m \u001b[0mx_measurement\u001b[0m\u001b[0;34m(\u001b[0m\u001b[0mcircuit\u001b[0m\u001b[0;34m:\u001b[0m \u001b[0mqiskit\u001b[0m\u001b[0;34m.\u001b[0m\u001b[0mcircuit\u001b[0m\u001b[0;34m.\u001b[0m\u001b[0mQuantumCircuit\u001b[0m\u001b[0;34m,\u001b[0m \u001b[0mqubit\u001b[0m\u001b[0;34m:\u001b[0m \u001b[0mint\u001b[0m\u001b[0;34m,\u001b[0m \u001b[0mcbit\u001b[0m\u001b[0;34m:\u001b[0m \u001b[0mint\u001b[0m\u001b[0;34m)\u001b[0m\u001b[0;34m:\u001b[0m\u001b[0;34m\u001b[0m\u001b[0;34m\u001b[0m\u001b[0m\n\u001b[0m\u001b[1;32m      2\u001b[0m     \u001b[0;34m\"\"\"Measure 'qubit' in the X-basis, and store the result in 'cbit'\"\"\"\u001b[0m\u001b[0;34m\u001b[0m\u001b[0;34m\u001b[0m\u001b[0m\n\u001b[1;32m      3\u001b[0m     \u001b[0;31m# circuit.measure = measure  # fix a bug in qiskit.circuit.measure\u001b[0m\u001b[0;34m\u001b[0m\u001b[0;34m\u001b[0m\u001b[0m\n\u001b[1;32m      4\u001b[0m     \u001b[0mcircuit\u001b[0m\u001b[0;34m.\u001b[0m\u001b[0mh\u001b[0m\u001b[0;34m(\u001b[0m\u001b[0mqubit\u001b[0m\u001b[0;34m)\u001b[0m\u001b[0;34m\u001b[0m\u001b[0;34m\u001b[0m\u001b[0m\n\u001b[1;32m      5\u001b[0m     \u001b[0mcircuit\u001b[0m\u001b[0;34m.\u001b[0m\u001b[0mmeasure\u001b[0m\u001b[0;34m(\u001b[0m\u001b[0mqubit\u001b[0m\u001b[0;34m,\u001b[0m \u001b[0mcbit\u001b[0m\u001b[0;34m)\u001b[0m\u001b[0;34m\u001b[0m\u001b[0;34m\u001b[0m\u001b[0m\n",
      "\u001b[0;31mNameError\u001b[0m: name 'qiskit' is not defined"
     ]
    }
   ],
   "source": [
    "def x_measurement(circuit: qiskit.circuit.QuantumCircuit, qubit: int, cbit: int):\n",
    "    \"\"\"Measure 'qubit' in the X-basis, and store the result in 'cbit'\"\"\"\n",
    "    # circuit.measure = measure  # fix a bug in qiskit.circuit.measure\n",
    "    circuit.h(qubit)\n",
    "    circuit.measure(qubit, cbit)\n",
    "    circuit.h(qubit)\n",
    "    return circuit"
   ]
  },
  {
   "cell_type": "markdown",
   "metadata": {},
   "source": [
    "Let's have a quick look at a circuit in Qiskit that uses the $X$-basis measurement."
   ]
  },
  {
   "cell_type": "code",
   "execution_count": null,
   "metadata": {},
   "outputs": [],
   "source": [
    "qr = QuantumRegister(2)\n",
    "cr = ClassicalRegister(2)\n",
    "circ = QuantumCircuit(qr, cr)\n",
    "x_measurement(circ, 0, 0)\n",
    "circ.draw(output = 'mpl')"
   ]
  },
  {
   "cell_type": "markdown",
   "metadata": {},
   "source": [
    "## Graphs on Surfaces\n",
    "\n",
    "Now, we are going to need a combinatorial tool often called a **dessin d'enfant, ribbon graph, combinatorial map, or rotation systems**. The term dessin d'enfant is a French term meaning \"child's drawing\" which was introduced by Alexander Grothendieck in the contect of studying number theory, alegraic geomerty, and Riemann surfaces, so it is often most used in these constexts. The term \"ribbon graph\" is more often used by the physics community, but these are all essentially equivalent notions. This combinatorial tool shows up in the context of studying quantum gravity, for example in a paper by Maxim Kontsevich \"Intersection Theory on the Moduli Space of Curves and the Matrix Airy Function\". Other examples can be found in the work of Edward Witten, for example in \"Volumes and Random Matrices and Developments in Topological Gravity\"."
   ]
  },
  {
   "cell_type": "markdown",
   "metadata": {},
   "source": [
    "So, how does one define a dessin/ribbon graph? Well, one way is through two permutations from the group $S_{2n}$, the symmetric group of order $2n$. This is the approach taken in \"[Graphs on Surfaces and Their Applications](https://www-users.cse.umn.edu/~reiner/Classes/Math8680Fall2014Papers/LandoZvonkin.pdf)\" (see pg. 7), a very important referefence for this notebook. We define two permutations, $\\sigma, \\alpha$ such that $\\sigma, \\alpha \\in S_{2n}$. The permutation $\\phi = (\\sigma \\alpha)^{-1}$ then gives us a triple $[\\sigma, \\alpha, \\phi]$ which defines a **constellation**. A constellation is a slightly more general object defined as follows:\n",
    "\n",
    "A sequence of permutations $[g_1, ..., g_k]$ with $g_i \\in S_{n}$ such that:\n",
    "\n",
    "- the group $G = \\langle g_1, ..., g_k \\rangle$, generated by the $g_i$ acts transitively on the set of $n$ points.\n",
    "\n",
    "- $g_1 g_2 \\cdots g_k = \\mathbf{id}$\n",
    "\n",
    "is called a **constellation**. The integer $n$ is called the degree of the constellation, and $k$ is called its length. There is a correspondence between a graph on a surface and constellations:\n",
    "\n",
    "$$\n",
    "\\text{vertex of graph} \\leftrightarrow \\text{cycle of } \\sigma \\\\\n",
    "\\text{edge of graph} \\leftrightarrow \\text{cycle of } \\alpha \\\\\n",
    "\\text{face of graph} \\leftrightarrow \\text{cycle of } \\phi. \n",
    "$$"
   ]
  },
  {
   "cell_type": "markdown",
   "metadata": {},
   "source": [
    "Using the above correspondence we can compute the genus  of the graph embedded in the surface using the formula\n",
    "\n",
    "$$\n",
    "V-E+F = 2-2g.\n",
    "$$\n",
    " \n",
    "There is a notion of a dual graph where each face of the graph is replaced by a vertex, and these vertices are connected by an edge in the dual graph if and only if the correspond to two faces that were separated by an edge before in the original graph. This replacement also automatically means every vertex in the original grapht is replaced by a face in the dual graph. The dual graph lies on the same surface and thus has the same genus. Moreover, we can compute the corresponding constellation by simply exchanging $\\sigma$ and $\\phi$. The notion of a dual graph will be important in the construction of surface codes because the qubits in a surface code will correspond to the vertices, edges, and faces of a dessin and its dual graph, just as the dual graph is used in [Quantum Computation with Topological Codes: from qubit to topological fault-tolerance](https://arxiv.org/pdf/1504.01444.pdf), another very important reference for this notebook. Our construction will provide usual surface codes, just as those defined in this reference, but we also provide a way of constructing hybrid qudit surface codes, a new less written about kind of surface code. "
   ]
  },
  {
   "cell_type": "markdown",
   "metadata": {},
   "source": [
    "## Permutations in SymPy\n",
    "While ribbon graphs and many useful methods for them are implemented in [SageMath](https://doc.sagemath.org/html/en/reference/discrete_geometry/sage/geometry/ribbon_graph.html), we prefer to implement the combinatorics again for instructive purposes. [SymPy](https://docs.sympy.org/latest/modules/combinatorics/permutations.html) offers a way of computing with permutations that will be helpful. We can import what we need from SymPy as follows:"
   ]
  },
  {
   "cell_type": "code",
   "execution_count": null,
   "metadata": {},
   "outputs": [],
   "source": [
    "from sympy.combinatorics import Permutation, PermutationGroup"
   ]
  },
  {
   "cell_type": "markdown",
   "metadata": {},
   "source": [
    "Now, let's write some Python code that we will need to create graphs embedded in surfaces. The following Python function will take as input the permutations $\\sigma$ and $\\alpha$ in the form of a list of lists, or as a tuple of tuples. It will then compute the list of lists form of the permutation $\\phi$. SymPy allows multiplication of permutation (composition) and it allows us to compute inverses as well. Let's look at an example."
   ]
  },
  {
   "cell_type": "code",
   "execution_count": null,
   "metadata": {},
   "outputs": [],
   "source": [
    "sigma = [[0,1,2],[3,4,5]]\n",
    "s = Permutation(sigma)\n",
    "s"
   ]
  },
  {
   "cell_type": "code",
   "execution_count": null,
   "metadata": {},
   "outputs": [],
   "source": [
    "alpha = [[0,3],[1,4],[2,5]]\n",
    "a = Permutation(alpha)\n",
    "a"
   ]
  },
  {
   "cell_type": "markdown",
   "metadata": {},
   "source": [
    "Let's compute the product (composition) of `a` and `s`, which in SymPy means perform `a`, then perform `s`."
   ]
  },
  {
   "cell_type": "code",
   "execution_count": null,
   "metadata": {},
   "outputs": [],
   "source": [
    "p = a*s\n",
    "p"
   ]
  },
  {
   "cell_type": "markdown",
   "metadata": {},
   "source": [
    "Now let us compute the inverse of `p`. "
   ]
  },
  {
   "cell_type": "code",
   "execution_count": null,
   "metadata": {},
   "outputs": [],
   "source": [
    "~p"
   ]
  },
  {
   "cell_type": "markdown",
   "metadata": {},
   "source": [
    "Now, let us write a function (method) to compute $\\phi$ (or `~p`):"
   ]
  },
  {
   "cell_type": "code",
   "execution_count": null,
   "metadata": {},
   "outputs": [],
   "source": [
    "def compute_phi(sigma: Tuple[Tuple[int]], alpha: Tuple[Tuple[int]]) -> List[List[int]]:\n",
    "    \"\"\"compute the list of lists full cyclic form of phi (faces of dessin [sigma, alpha, phi])\"\"\"\n",
    "    s = Permutation(sigma)\n",
    "    a = Permutation(alpha)\n",
    "    f = ~(a * s)\n",
    "    f = f.full_cyclic_form # prints permutation as a list of lists including all singletons (fixed points)\n",
    "    return f"
   ]
  },
  {
   "cell_type": "markdown",
   "metadata": {},
   "source": [
    "Again, as an example take the $\\sigma=$ `s` $=$ `sigma` and $\\alpha=$ `a` $=$ `alpha` acting on the set of points $\\{0,1,2,3,4,5\\}$. "
   ]
  },
  {
   "cell_type": "code",
   "execution_count": null,
   "metadata": {},
   "outputs": [],
   "source": [
    "sigma = [[0,1,2],[3,4,5]]\n",
    "alpha = [[0,3],[1,4],[2,5]]\n",
    "compute_phi(sigma, alpha)"
   ]
  },
  {
   "cell_type": "markdown",
   "metadata": {},
   "source": [
    "Notice, we get the same thing as we computed above when we computed `~p`, except this time it's in the form of a list of lists. The next function will take a permutation as an input and it will convert it to a tuple of tuples."
   ]
  },
  {
   "cell_type": "code",
   "execution_count": null,
   "metadata": {},
   "outputs": [],
   "source": [
    "def permlist_to_tuple(perms):\n",
    "    \"\"\"\n",
    "    convert list of lists to tuple of tuples in order to have two level iterables\n",
    "    that are hashable for the dictionaries used later\n",
    "    \"\"\"\n",
    "    perm_list = list()\n",
    "    for perm in perms:\n",
    "        perm = tuple(perm)\n",
    "        perm_list.append(perm)\n",
    "    return tuple(perm_list)"
   ]
  },
  {
   "cell_type": "markdown",
   "metadata": {},
   "source": [
    "As an example, let's give it the permutation $\\sigma$."
   ]
  },
  {
   "cell_type": "code",
   "execution_count": null,
   "metadata": {},
   "outputs": [],
   "source": [
    "permlist_to_tuple(sigma)"
   ]
  },
  {
   "cell_type": "markdown",
   "metadata": {},
   "source": [
    "This will be useful if we need to iterate on two levels. Next, we define a function that computes the graph corresponding to the constellation $[\\sigma, \\alpha, \\phi]$, along with its dual graph corresponding to $[\\phi, \\alpha, \\sigma]$. For this function we need [NetworkX](https://networkx.org/) for handling graphs and networks."
   ]
  },
  {
   "cell_type": "code",
   "execution_count": null,
   "metadata": {},
   "outputs": [],
   "source": [
    "def build_node_info(sigma, alpha, phi):\n",
    "    count = -1\n",
    "    \n",
    "    sigma_dict = dict()\n",
    "    for count, cycle in enumerate(sigma):\n",
    "        sigma_dict[cycle] = count\n",
    "        \n",
    "    phi_dict = dict()\n",
    "    for count, cycle in enumerate(phi, start=count + 1):\n",
    "        phi_dict[cycle] = count\n",
    "        \n",
    "    alpha_dict = dict()\n",
    "    for count, pair in enumerate(alpha, start=count + 1):\n",
    "        alpha_dict[pair] = count\n",
    "        \n",
    "    return sigma_dict, alpha_dict, phi_dict"
   ]
  },
  {
   "cell_type": "code",
   "execution_count": null,
   "metadata": {},
   "outputs": [],
   "source": [
    "def surface_code_graph(sigma: Tuple[Tuple[int]], alpha: Tuple[Tuple[int]]) -> \\\n",
    "        Tuple[Union[nx.MultiGraph, Any], Tuple[Dict[Any, int], Dict[Any, int], Dict[Any, int]]]:\n",
    "    \"\"\"output a graph and a node_info\"\"\"\n",
    "    f = compute_phi(sigma, alpha)\n",
    "    phi = permlist_to_tuple(f)\n",
    "\n",
    "    surface_graph = nx.MultiGraph()\n",
    "\n",
    "    node_info = build_node_info(sigma, alpha, phi)\n",
    "\n",
    "    # Create nodes for each cycle in sigma\n",
    "    for cycle in sigma:\n",
    "        surface_graph.add_node(cycle, bipartite=1)\n",
    "        for node in cycle:\n",
    "            surface_graph.add_node(node, bipartite=0)\n",
    "            surface_graph.add_edge(cycle, node)\n",
    "\n",
    "    # Create nodes for each cycle in phi\n",
    "    for cycle in phi:\n",
    "        surface_graph.add_node(cycle, bipartite=1)\n",
    "        for node in cycle:\n",
    "            surface_graph.add_edge(cycle, node)\n",
    "\n",
    "    # Create nodes for each cycle in alpha\n",
    "    # then glue the nodes corresponding to a the pairs\n",
    "    for pair in alpha:\n",
    "        surface_graph.add_node(pair)\n",
    "        surface_graph = nx.contracted_nodes(surface_graph, pair[0], pair[1], self_loops=True)\n",
    "        surface_graph = nx.contracted_nodes(surface_graph, pair, pair[0], self_loops=True)\n",
    "\n",
    "    return surface_graph, node_info"
   ]
  },
  {
   "cell_type": "code",
   "execution_count": null,
   "metadata": {},
   "outputs": [],
   "source": [
    "sigma1 = ((0,1,2),(3,4,5))\n",
    "alpha1 = ((0,3),(1,4),(2,5))\n",
    "SC1, node_info = surface_code_graph(sigma1, alpha1)"
   ]
  },
  {
   "cell_type": "code",
   "execution_count": null,
   "metadata": {},
   "outputs": [],
   "source": [
    "nx.draw(SC1, with_labels = True)"
   ]
  },
  {
   "cell_type": "markdown",
   "metadata": {},
   "source": [
    "Notice there is a single **face** node $(0,5,1,3,2,4)$, which corresponds to a single face of the graph embedded in the surface. There are three **edge** nodes $(0,3), (2,5),$ and $(1,4)$. Often these nodes are white instead of black in the literature on dessins d'enfants. This makes the graph bipartite, and in general any bipartite graph can be realized in this way (via a constellation giving a graph embedded in a surface). There are two **vertex** nodes, $(0,1,2)$ and $(3,4,5)$. "
   ]
  },
  {
   "cell_type": "markdown",
   "metadata": {},
   "source": [
    "Although the graph is not drawn on a surface we can compute its genus using the formula\n",
    "\n",
    "$$\n",
    "V-E+F = |\\sigma|-|\\alpha|+|\\phi| = 2-2g. \n",
    "$$"
   ]
  },
  {
   "cell_type": "markdown",
   "metadata": {},
   "source": [
    "In this case we have two cycles in $\\sigma$, three in $\\alpha$, and one in $\\phi$ giving us,\n",
    "\n",
    "$$\n",
    "2-3+1 = 0 = 2-2g \\\\ \n",
    "\\implies g = 1.\n",
    "$$"
   ]
  },
  {
   "cell_type": "markdown",
   "metadata": {},
   "source": [
    "![Genus](genus.png \"Genus\")"
   ]
  },
  {
   "cell_type": "markdown",
   "metadata": {},
   "source": [
    "A genus  surface is a torus. If you are not familiar with genus you might want to check out the [Wikipedia page](https://en.wikipedia.org/wiki/Genus_(mathematics)) where this image is taken from, and where the genus of a graph is defined as:\n",
    "\n",
    "```\n",
    "The genus of a graph is the minimal integer n such that the graph can be drawn without crossing itself on a sphere with n handles (i.e. an oriented surface of genus n). Thus, a planar graph has genus 0, because it can be drawn on a sphere without self-crossing.\n",
    "```\n",
    "\n",
    "It may also be useful to read the Wikipedia page on [graph embeddings](https://en.wikipedia.org/wiki/Graph_embedding). Although finding the genus of an arbitrary graph is an NP-hard problem, in the case of dessins (combinatorial embeddings), computing the genus is an easy task because of the way the graph is encoded in the permutations of the constellation $[\\sigma, \\alpha, \\phi]$.\n",
    "\n",
    "Let's have a look at another example. Here we will take\n",
    "\n",
    "$$\n",
    "\\sigma = (0,1,2,3)(4,5,6,7) \\\\\n",
    "\\alpha = (0,3)(1,4)(2,5)(6,7).\n",
    "$$\n",
    "\n",
    "We can compute $\\phi$ as follows:"
   ]
  },
  {
   "cell_type": "code",
   "execution_count": null,
   "metadata": {},
   "outputs": [],
   "source": [
    "sigma2 = ((0,1,2,3),(4,5,6,7))\n",
    "alpha2 = ((0,3),(1,4),(2,5),(6,7))\n",
    "compute_phi(sigma2, alpha2)"
   ]
  },
  {
   "cell_type": "markdown",
   "metadata": {},
   "source": [
    "Now, notice that the singleton permutations $(0)$ and $(7)$ are not normally printed. If we instead print the permutation version of this, we still only get a partial list of singletons and $(0)$ is left out again."
   ]
  },
  {
   "cell_type": "code",
   "execution_count": null,
   "metadata": {},
   "outputs": [],
   "source": [
    "sigma2 = ((0,1,2,3),(4,5,6,7))\n",
    "alpha2 = ((0,3),(1,4),(2,5),(6,7))\n",
    "s = Permutation(sigma2)\n",
    "a = Permutation(alpha2)\n",
    "f = ~(a*s)\n",
    "f"
   ]
  },
  {
   "cell_type": "markdown",
   "metadata": {},
   "source": [
    "In order to get all of the singletons, we must print the `full_cyclic_form` of the permutation."
   ]
  },
  {
   "cell_type": "code",
   "execution_count": null,
   "metadata": {},
   "outputs": [],
   "source": [
    "f.full_cyclic_form"
   ]
  },
  {
   "cell_type": "markdown",
   "metadata": {},
   "source": [
    "This can be converted to a tuple so that we can do a two-level iteration over it (iterable of iterables)."
   ]
  },
  {
   "cell_type": "code",
   "execution_count": null,
   "metadata": {},
   "outputs": [],
   "source": [
    "permlist_to_tuple(f.full_cyclic_form)"
   ]
  },
  {
   "cell_type": "markdown",
   "metadata": {},
   "source": [
    "The `full_cyclic_form` of the permutation is the appropriate form to build graphs on surfaces. This is because singletons correspond to loops in the graph. NetworkX doesn't always do the greatest job of drawing multiple edges and loops, however, we can still deal with them mathemtaically and build quantum circuits off of such graphs. Let's look at another example of a graph with loops (which aren't rendered appropriately by NetworkX), corresponding to the permutations we just computed. This graph will have genus given by,\n",
    "\n",
    "$$\n",
    "V-E+F = 2-4+4 = 2\\\\\n",
    "= 2-2g \\\\\n",
    "\\implies g = 0.\n",
    "$$"
   ]
  },
  {
   "cell_type": "code",
   "execution_count": null,
   "metadata": {},
   "outputs": [],
   "source": [
    "sigma2 = ((0,1,2,3),(4,5,6,7))\n",
    "alpha2 = ((0,3),(1,4),(2,5),(6,7))\n",
    "SC2, node_info = surface_code_graph(sigma2, alpha2)"
   ]
  },
  {
   "cell_type": "code",
   "execution_count": null,
   "metadata": {},
   "outputs": [],
   "source": [
    "nx.draw(SC2, with_labels = True)"
   ]
  },
  {
   "cell_type": "markdown",
   "metadata": {},
   "source": [
    "Let's draw this in another way."
   ]
  },
  {
   "cell_type": "code",
   "execution_count": null,
   "metadata": {},
   "outputs": [],
   "source": [
    "nx.draw_circular(SC2, with_labels = True)"
   ]
  },
  {
   "cell_type": "markdown",
   "metadata": {},
   "source": [
    "## Surface Code Circuits\n",
    "\n",
    "The next function we will write will build a quantum circuit based on a graph. It will create one qubit for every vertex, as well as a classical bit in which to store measurements for each vertex. It will return a triple: `circuit, node_dict, graph`. The `node_dict` is a dictionary the function builds to map the nodes in `graph` to the qubits of `circuit`."
   ]
  },
  {
   "cell_type": "code",
   "execution_count": null,
   "metadata": {},
   "outputs": [],
   "source": [
    "def surface_code_circuit(sigma: Tuple[Tuple[int]], alpha: Tuple[Tuple[int]]) -> \\\n",
    "        Tuple[QuantumCircuit, Union[nx.MultiGraph, Any], Tuple[Dict[Any, int], Dict[Any, int], Dict[Any, int]]]:\n",
    "    \n",
    "    surface_graph, node_info = surface_code_graph(sigma, alpha)\n",
    "\n",
    "    '''\n",
    "    Compute the permutation corresponding to phi and create a \n",
    "    'surface code circuit' based on a (multi)graph 'surface_graph'\n",
    "    given by sigma, alpha, and phi\n",
    "    Create quantum and classical registers based on the number of nodes in G\n",
    "    '''\n",
    "    f = compute_phi(sigma, alpha)\n",
    "    phi = permlist_to_tuple(f)\n",
    "\n",
    "    qr = QuantumRegister(len(surface_graph.nodes))\n",
    "    cr = ClassicalRegister(len(surface_graph.nodes))\n",
    "    circ = QuantumCircuit(qr, cr)\n",
    "    \n",
    "    sigma_dict, alpha_dict, phi_dict = node_info\n",
    "    \n",
    "    for cycle in sigma:\n",
    "        circ.h(sigma_dict[cycle])\n",
    "\n",
    "    for cycle in phi:\n",
    "        circ.h(phi_dict[cycle])\n",
    "\n",
    "    return circ, surface_graph, node_info"
   ]
  },
  {
   "cell_type": "markdown",
   "metadata": {},
   "source": [
    "Now, let's create a graph based on the permutations\n",
    "\n",
    "$$\n",
    "\\sigma = (0,5,1,3,2,4)\\\\\n",
    "\\alpha = (0,3)(1,4)(2,5).\n",
    "$$"
   ]
  },
  {
   "cell_type": "code",
   "execution_count": null,
   "metadata": {},
   "outputs": [],
   "source": [
    "sigma = ((0,5,1,3,2,4),)\n",
    "# Why is there a comma at the end of sigma?\n",
    "alpha = ((0,3),(1,4),(2,5))\n",
    "compute_phi(sigma, alpha)"
   ]
  },
  {
   "cell_type": "code",
   "execution_count": null,
   "metadata": {},
   "outputs": [],
   "source": [
    "G, node_info = surface_code_graph(sigma, alpha)\n",
    "node_info"
   ]
  },
  {
   "cell_type": "code",
   "execution_count": null,
   "metadata": {},
   "outputs": [],
   "source": [
    "nx.draw(G, with_labels = True)"
   ]
  },
  {
   "cell_type": "markdown",
   "metadata": {},
   "source": [
    "Now, let's build a circuit using our function surface_code_circuit()."
   ]
  },
  {
   "cell_type": "code",
   "execution_count": null,
   "metadata": {},
   "outputs": [],
   "source": [
    "circuit, node_dict, G = surface_code_circuit(sigma, alpha)"
   ]
  },
  {
   "cell_type": "code",
   "execution_count": null,
   "metadata": {},
   "outputs": [],
   "source": [
    "circuit.draw(output = 'mpl')"
   ]
  },
  {
   "cell_type": "markdown",
   "metadata": {},
   "source": [
    "## Star Syndrome Measurements\n",
    "Now, we want to define something known as a syndrome measurement. This is defined on pg. 108 in Quantum Computation with Topological Codes: from qubit to topological fault-tolerance. The following visualization is given there."
   ]
  },
  {
   "cell_type": "markdown",
   "metadata": {},
   "source": [
    "![Star_Syndrome](star_syndrome.png \"Star_Syndrome\")"
   ]
  },
  {
   "cell_type": "markdown",
   "metadata": {},
   "source": [
    "Notice there is an **ancilla qubit** located on the node of a face corresponding to a cycle in $\\phi$ on the left, as well as an ancilla qubit located at the node corresponding to a cycle of $\\sigma$ on the right. These are two types of syndrom measurements that we will now define. The following function defines the **syndrome measurement** pictured on the right, corresponding to a vertex given by a cycle of $\\sigma$. These are called **star syndrome measurements**."
   ]
  },
  {
   "cell_type": "code",
   "execution_count": null,
   "metadata": {},
   "outputs": [],
   "source": [
    "def star_syndrome_measure(circuit: qiskit.circuit.QuantumCircuit, surface_graph: nx.MultiGraph,\n",
    "                          node_info, vertex: Tuple[int]):\n",
    "    v = vertex\n",
    "    \n",
    "    sigma_dict, alpha_dict, phi_dict = node_info\n",
    "    \n",
    "    for node in surface_graph.neighbors(v):\n",
    "        circuit.cx(sigma_dict[v], alpha_dict[node])\n",
    "\n",
    "    circuit.barrier()\n",
    "    x_measurement(circuit, sigma_dict[v], sigma_dict[v])\n",
    "    circuit.barrier()\n",
    "\n",
    "    return circuit, surface_graph, node_info"
   ]
  },
  {
   "cell_type": "markdown",
   "metadata": {},
   "source": [
    "Let's build a surface code from the graph given by the constellation,\n",
    "\n",
    "$$\n",
    "\\sigma = (0,1,2)(3,4,5) \\\\\n",
    "\\alpha = (0,3)(1,4)(2,5)\n",
    "$$\n",
    "\n",
    "and perform the star syndrome measurement corresponding to the vertex $(0,1,2)$."
   ]
  },
  {
   "cell_type": "code",
   "execution_count": null,
   "metadata": {},
   "outputs": [],
   "source": [
    "sigma = ((0,1,2),(3,4,5))\n",
    "alpha = ((0,3),(1,4),(2,5))\n",
    "G, node_info = surface_code_graph(sigma, alpha)\n",
    "nx.draw(G, with_labels = True)"
   ]
  },
  {
   "cell_type": "markdown",
   "metadata": {},
   "source": [
    "The following will build the circuit we need."
   ]
  },
  {
   "cell_type": "code",
   "execution_count": null,
   "metadata": {},
   "outputs": [],
   "source": [
    "SCC, G, node_info = surface_code_circuit(sigma, alpha)\n",
    "SCC, G, node_info"
   ]
  },
  {
   "cell_type": "code",
   "execution_count": null,
   "metadata": {},
   "outputs": [],
   "source": [
    "SCC.draw(output = 'mpl')"
   ]
  },
  {
   "cell_type": "markdown",
   "metadata": {},
   "source": [
    "Next, we perform the star syndrom measurement for the qubit corresponding to the vertex $(0,1,2)$. "
   ]
  },
  {
   "cell_type": "code",
   "execution_count": null,
   "metadata": {},
   "outputs": [],
   "source": [
    "v = (0,1,2)\n",
    "SCC, G, node_info = star_syndrome_measure(SCC, G, node_info, v)"
   ]
  },
  {
   "cell_type": "code",
   "execution_count": null,
   "metadata": {},
   "outputs": [],
   "source": [
    "SCC.draw(output = 'mpl')"
   ]
  },
  {
   "cell_type": "markdown",
   "metadata": {},
   "source": [
    "Next, we perform the star syndrome measurement corresponding to the vertex $(3,4,5)$."
   ]
  },
  {
   "cell_type": "code",
   "execution_count": null,
   "metadata": {},
   "outputs": [],
   "source": [
    "w = (3,4,5)\n",
    "SCC, G, node_info = star_syndrome_measure(SCC, G, node_info, w)"
   ]
  },
  {
   "cell_type": "code",
   "execution_count": null,
   "metadata": {},
   "outputs": [],
   "source": [
    "SCC.draw(output = 'mpl')"
   ]
  },
  {
   "cell_type": "markdown",
   "metadata": {},
   "source": [
    "Notice, if we were to have the circuit layout \"over the surface\" similar to the picture where we defined what a star syndrom measurement was. The above \"staff notation\" resembles music notation moreso that a surface code circuit eminating from a surface (a torus in this example). "
   ]
  },
  {
   "cell_type": "markdown",
   "metadata": {},
   "source": [
    "## Face Syndrome Measurements\n",
    "Next, we will define the **face (or plaquette) syndrome measurement** shown on the left of the image below."
   ]
  },
  {
   "cell_type": "markdown",
   "metadata": {},
   "source": [
    "![Star_Syndrome](star_syndrome.png \"Star_Syndrome\")"
   ]
  },
  {
   "cell_type": "code",
   "execution_count": null,
   "metadata": {},
   "outputs": [],
   "source": [
    "def face_syndrome_measure(circuit: qiskit.circuit.QuantumCircuit, surface_graph: nx.MultiGraph,\n",
    "                          node_info,\n",
    "                          vertex: Tuple[int]):\n",
    "    v = vertex\n",
    "    sigma_dict, alpha_dict, phi_dict = node_info\n",
    "    for node in surface_graph.neighbors(v):\n",
    "        circuit.cz(phi_dict[v], alpha_dict[node])\n",
    "\n",
    "    circuit.barrier()\n",
    "    x_measurement(circuit, phi_dict[v], phi_dict[v])\n",
    "    circuit.barrier()\n",
    "\n",
    "    return circuit, surface_graph, node_info"
   ]
  },
  {
   "cell_type": "markdown",
   "metadata": {},
   "source": [
    "We can use the face vertex $(0,5,1,3,2,4)$ to perform a face syndrome measurement on the correspodning qubit. Notice the face syndrome measurements have controlled-$Z$ gates rather than `CNOT` gates like the star syndrome measurements have. "
   ]
  },
  {
   "cell_type": "code",
   "execution_count": null,
   "metadata": {},
   "outputs": [],
   "source": [
    "u = (0,5,1,3,2,4)\n",
    "SCC, G, node_info = face_syndrome_measure(SCC, G, node_info, u)"
   ]
  },
  {
   "cell_type": "code",
   "execution_count": null,
   "metadata": {},
   "outputs": [],
   "source": [
    "SCC.draw(output = 'mpl')"
   ]
  },
  {
   "cell_type": "markdown",
   "metadata": {},
   "source": [
    "## Surface Code Functions\n",
    "\n",
    "Below we give a summary of the functions we have built for surface codes. "
   ]
  },
  {
   "cell_type": "code",
   "execution_count": null,
   "metadata": {},
   "outputs": [],
   "source": [
    "from typing import Tuple, List, Union, Any, Dict\n",
    "\n",
    "#from qiskit.circuit import QuantumCircuit, QuantumRegister, ClassicalRegister\n",
    "#from qiskit.circuit.measure import measure\n",
    "#from networkx import nx\n",
    "#import qiskit\n",
    "#from sympy.combinatorics import Permutation\n",
    "\n",
    "\n",
    "import networkx as nx\n",
    "from networkx.classes.multigraph import MultiGraph\n",
    "from networkx.algorithms import bipartite\n",
    "from sympy.combinatorics import Permutation, PermutationGroup\n",
    "from qiskit import *\n",
    "\n",
    "\n",
    "def x_measurement(circuit: qiskit.circuit.QuantumCircuit, qubit: int, cbit: int):\n",
    "    \"\"\"Measure 'qubit' in the X-basis, and store the result in 'cbit'\"\"\"\n",
    "    # circuit.measure = measure  # fix a bug in qiskit.circuit.measure\n",
    "    circuit.h(qubit)\n",
    "    circuit.measure(qubit, cbit)\n",
    "    circuit.h(qubit)\n",
    "    return circuit\n",
    "\n",
    "\n",
    "def compute_phi(sigma: Tuple[Tuple[int]], alpha: Tuple[Tuple[int]]) -> List[List[int]]:\n",
    "    \"\"\"compute the list of lists full cyclic form of phi (faces of dessin [sigma, alpha, phi])\"\"\"\n",
    "    s = Permutation(sigma)\n",
    "    a = Permutation(alpha)\n",
    "    f = ~(a * s)\n",
    "    f = f.full_cyclic_form # prints permutation as a list of lists including all singletons (fixed points)\n",
    "    return f\n",
    "\n",
    "\n",
    "def permlist_to_tuple(perms):\n",
    "    \"\"\"\n",
    "    convert list of lists to tuple of tuples in order to have two level iterables\n",
    "    that are hashable for the dictionaries used later\n",
    "    \"\"\"\n",
    "    perm_list = list()\n",
    "    for perm in perms:\n",
    "        perm = tuple(perm)\n",
    "        perm_list.append(perm)\n",
    "    return tuple(perm_list)\n",
    "\n",
    "\n",
    "def build_node_info(sigma, alpha, phi):\n",
    "    count = -1\n",
    "    \n",
    "    sigma_dict = dict()\n",
    "    for count, cycle in enumerate(sigma):\n",
    "        sigma_dict[cycle] = count\n",
    "        \n",
    "    phi_dict = dict()\n",
    "    for count, cycle in enumerate(phi, start=count + 1):\n",
    "        phi_dict[cycle] = count\n",
    "        \n",
    "    alpha_dict = dict()\n",
    "    for count, pair in enumerate(alpha, start=count + 1):\n",
    "        alpha_dict[pair] = count\n",
    "        \n",
    "    return sigma_dict, alpha_dict, phi_dict\n",
    "\n",
    "\n",
    "def surface_code_graph(sigma: Tuple[Tuple[int]], alpha: Tuple[Tuple[int]]) -> \\\n",
    "        Tuple[Union[nx.MultiGraph, Any], Tuple[Dict[Any, int], Dict[Any, int], Dict[Any, int]]]:\n",
    "    \"\"\"output a graph and a node_info\"\"\"\n",
    "    f = compute_phi(sigma, alpha)\n",
    "    phi = permlist_to_tuple(f)\n",
    "\n",
    "    surface_graph = nx.MultiGraph()\n",
    "\n",
    "    node_info = build_node_info(sigma, alpha, phi)\n",
    "\n",
    "    # Create nodes for each cycle in sigma\n",
    "    for cycle in sigma:\n",
    "        surface_graph.add_node(cycle, bipartite=1)\n",
    "        for node in cycle:\n",
    "            surface_graph.add_node(node, bipartite=0)\n",
    "            surface_graph.add_edge(cycle, node)\n",
    "\n",
    "    # Create nodes for each cycle in phi\n",
    "    for cycle in phi:\n",
    "        surface_graph.add_node(cycle, bipartite=1)\n",
    "        for node in cycle:\n",
    "            surface_graph.add_edge(cycle, node)\n",
    "\n",
    "    # Create nodes for each cycle in alpha\n",
    "    # then glue the nodes corresponding to a the pairs\n",
    "    for pair in alpha:\n",
    "        surface_graph.add_node(pair)\n",
    "        surface_graph = nx.contracted_nodes(surface_graph, pair[0], pair[1], self_loops=True)\n",
    "        surface_graph = nx.contracted_nodes(surface_graph, pair, pair[0], self_loops=True)\n",
    "\n",
    "    return surface_graph, node_info\n",
    "\n",
    "\n",
    "def surface_code_circuit(sigma: Tuple[Tuple[int]], alpha: Tuple[Tuple[int]]) -> \\\n",
    "        Tuple[QuantumCircuit, Union[nx.MultiGraph, Any], Tuple[Dict[Any, int], Dict[Any, int], Dict[Any, int]]]:\n",
    "    \n",
    "    surface_graph, node_info = surface_code_graph(sigma, alpha)\n",
    "\n",
    "    '''\n",
    "    Compute the permutation corresponding to phi and create a \n",
    "    'surface code circuit' based on a (multi)graph 'surface_graph'\n",
    "    given by sigma, alpha, and phi\n",
    "    Create quantum and classical registers based on the number of nodes in G\n",
    "    '''\n",
    "    f = compute_phi(sigma, alpha)\n",
    "    phi = permlist_to_tuple(f)\n",
    "\n",
    "    qr = QuantumRegister(len(surface_graph.nodes))\n",
    "    cr = ClassicalRegister(len(surface_graph.nodes))\n",
    "    circ = QuantumCircuit(qr, cr)\n",
    "    \n",
    "    sigma_dict, alpha_dict, phi_dict = node_info\n",
    "    \n",
    "    for cycle in sigma:\n",
    "        circ.h(sigma_dict[cycle])\n",
    "\n",
    "    for cycle in phi:\n",
    "        circ.h(phi_dict[cycle])\n",
    "\n",
    "    return circ, surface_graph, node_info\n",
    "\n",
    "\n",
    "def star_syndrome_measure(circuit: qiskit.circuit.QuantumCircuit, surface_graph: nx.MultiGraph,\n",
    "                          node_info, vertex: Tuple[int]):\n",
    "    v = vertex\n",
    "    \n",
    "    sigma_dict, alpha_dict, phi_dict = node_info\n",
    "    \n",
    "    for node in surface_graph.neighbors(v):\n",
    "        circuit.cx(sigma_dict[v], alpha_dict[node])\n",
    "\n",
    "    circuit.barrier()\n",
    "    x_measurement(circuit, sigma_dict[v], sigma_dict[v])\n",
    "    circuit.barrier()\n",
    "\n",
    "    return circuit, surface_graph, node_info\n",
    "\n",
    "\n",
    "def face_syndrome_measure(circuit: qiskit.circuit.QuantumCircuit, surface_graph: nx.MultiGraph,\n",
    "                          node_info,\n",
    "                          vertex: Tuple[int]):\n",
    "    v = vertex\n",
    "    sigma_dict, alpha_dict, phi_dict = node_info\n",
    "    for node in surface_graph.neighbors(v):\n",
    "        circuit.cz(phi_dict[v], alpha_dict[node])\n",
    "\n",
    "    circuit.barrier()\n",
    "    x_measurement(circuit, phi_dict[v], phi_dict[v])\n",
    "    circuit.barrier()\n",
    "\n",
    "    return circuit, surface_graph, node_info"
   ]
  },
  {
   "cell_type": "markdown",
   "metadata": {},
   "source": [
    "Any $2$-dimensional topological error correcting code can be represented as a surface code such as those we have constructed so far. We will eventually construct hybrid qudit codes, but for now, we stay with using qubits for each node in the graphs embedded in surfaces. It is important to now turn to constructing and studying some of the topological properties of these codes. "
   ]
  },
  {
   "cell_type": "markdown",
   "metadata": {},
   "source": [
    "## Boundary and Coboundary Operators for Surface Code Graphs\n",
    "\n",
    "Next, we need to define \"boundary operators\" on dessins/surface code graphs. Boundary operators act on \"chains\" and for us, chains will be lists of faces, edges, or vertices. They can be thought of as elements in a vector space over $\\mathbb{Z}/2\\mathbb{Z}$, but this can be interpreted as the element either being present in the list (coefficient $1$) or not in the list (coefficient $0$). So we don't really need to use the linear algebra perspective yet. The boundary operator $\\partial_2:F \\to E$ (faces to edges) takes faces to the edges that surround them, i.e. to the boundary of the face. Similarly, the boundary operator $\\partial_1:E \\to V$ (edges to vertices) take edges to the vertices attached to their ends. The boundary of a vertex (node) in a surface code graph is always $0$. Remember for a constellation $[\\sigma, \\alpha, \\phi]$ we get a bipartite graph on a surface. Now, we will consider the \"white nodes\" labeled by pairs in $\\alpha$ as the edge labels. The black nodes labeled by $\\phi$ in the surface code graph will be the \"faces\". The black nodes labeled by $\\sigma$ will be the \"vertices\".\n",
    "\n",
    "There is also a \"coboundary\" operator $\\delta_2:E \\to F$ (edges to faces) that computes the faces lying on either side of an edge. For the \"stars\" of the graph labeled by $\\sigma$ there is a coboundary operator $\\delta_1:V \\to E$ (vertices to edges) which computes the edges attached to a vertex labeled by $\\sigma$. The two boundary operators that will be most important and used most often will be $\\partial_2$ and $\\delta_1$ operating on faces and stars respectively, but we're going to define all four of the boundary and coboundary operators.\n",
    "\n",
    "The boundary and coboundary operators  can then be used to define Pauli-operators corresponding to cycles and cocyles in the surface code graph. We will discuss this more once we have defined the boundary and coboundary operators. Let's start by defining $\\partial_2$ and $\\delta_1$."
   ]
  },
  {
   "cell_type": "code",
   "execution_count": null,
   "metadata": {},
   "outputs": [],
   "source": [
    "from collections import Counter\n",
    "\n",
    "def boundary_2(face, surface_code_graph):\n",
    "    boundary = surface_code_graph.neighbors(face)\n",
    "    return boundary\n",
    "\n",
    "\n",
    "def del_2(faces, surface_code_graph):\n",
    "    boundary_list = list()\n",
    "    for face in faces:\n",
    "        boundary = boundary_2(face, surface_code_graph)\n",
    "        boundary_list.append(boundary)\n",
    "    a = Counter([y for x in boundary_list for y in x])\n",
    "    #mod 2 arithmetic here, can be changed to Z/nZ or Z\n",
    "    boundary_list = [x[0] for x in a.items() if x[1]%2==1]\n",
    "    return boundary_list\n",
    "\n",
    "\n",
    "def coboundary_1(star, surface_code_graph):\n",
    "    coboundary = surface_code_graph.neighbors(star)\n",
    "    return coboundary\n",
    "\n",
    "\n",
    "def delta_1(stars, surface_code_graph):\n",
    "    coboundary_list = list()\n",
    "    for star in stars:\n",
    "        coboundary = coboundary_1(star, surface_code_graph)\n",
    "        coboundary_list.append(coboundary)\n",
    "    a = Counter([y for x in coboundary_list for y in x])\n",
    "    #mod 2 arithmetic here, can be changed to Z/nZ or Z\n",
    "    coboundary_list = [x[0] for x in a.items() if x[1]%2==1]\n",
    "    return coboundary_list"
   ]
  },
  {
   "cell_type": "markdown",
   "metadata": {},
   "source": [
    "Now, let's look at some example applications of these operators on a surface code graph."
   ]
  },
  {
   "cell_type": "code",
   "execution_count": null,
   "metadata": {},
   "outputs": [],
   "source": [
    "sigma = ((0,1,2), (3,4,5), (6,7,8,9))\n",
    "alpha = ((0,3),(1,4),(2,6),(5,7),(8,9))\n",
    "G, node_info = surface_code_graph(sigma, alpha)\n",
    "nx.draw(G, with_labels = True)"
   ]
  },
  {
   "cell_type": "markdown",
   "metadata": {},
   "source": [
    "Let's get the `node_info` so we know what the dictionaries for $[\\sigma, \\alpha, \\phi]$ are. "
   ]
  },
  {
   "cell_type": "code",
   "execution_count": null,
   "metadata": {},
   "outputs": [],
   "source": [
    "node_info"
   ]
  },
  {
   "cell_type": "markdown",
   "metadata": {},
   "source": [
    "Next, we define `faces` and compute the boundary of this list of faces."
   ]
  },
  {
   "cell_type": "code",
   "execution_count": null,
   "metadata": {},
   "outputs": [],
   "source": [
    "faces = [(0, 6, 8, 5, 1, 3, 7, 2, 4), (9,)]\n",
    "del_2(faces, G)"
   ]
  },
  {
   "cell_type": "markdown",
   "metadata": {},
   "source": [
    "Finally, we can compute the coboundary of two vertices given by two of the cycles from $\\sigma$. "
   ]
  },
  {
   "cell_type": "code",
   "execution_count": null,
   "metadata": {},
   "outputs": [],
   "source": [
    "stars = [(0,1,2), (3,4,5)]\n",
    "delta_1(stars, G)"
   ]
  },
  {
   "cell_type": "markdown",
   "metadata": {},
   "source": [
    "The following image illustrates how this works for the square lattice on a torus, unfortunately there is little in the literature on arbitrary graphs embedded in surfaces. The concept is the same however, and if your graph happens to be a square lattice on a torus, then you have reproduced Kitaev's torus code. For more on this particular code see the [Error Correction Zoo](https://errorcorrectionzoo.org/c/surface)."
   ]
  },
  {
   "cell_type": "markdown",
   "metadata": {},
   "source": [
    "![Strings](strings.png \"strings\")"
   ]
  },
  {
   "cell_type": "markdown",
   "metadata": {},
   "source": [
    "Our examples are more complicated graph embeddings than just a regular square lattice. We might have something that looks more like the hyperbolic codes mentioned in [Homological Quantum Codes\n",
    "Beyond the Toric Code](https://arxiv.org/pdf/1802.01520.pdf) and pictured in the following image, "
   ]
  },
  {
   "cell_type": "markdown",
   "metadata": {},
   "source": [
    "![graph_on_surface](graph_on_surface.png \"graph_on_surface\")"
   ]
  },
  {
   "cell_type": "markdown",
   "metadata": {},
   "source": [
    "The strings of operators used to generate logical operators or to simulate error propogation might be more complicated too. Fortunately we can still handle the mathematics even if it is difficult to draw. "
   ]
  },
  {
   "cell_type": "markdown",
   "metadata": {},
   "source": [
    "It is important to note that if our list of faces or stars in given as input for the above two functions has faces with edges in common, an even number of occurences of the same edge means that edge doesn't show up in the output. On the other hand if there are an odd number of occurence of an edge, that edge does show up in the output. This reflects the $\\mathbb{Z}/2\\mathbb{Z}$-chain complex structure. This can all be phrased in terms of linear algebra and treating $V$, $E$, and $F$ as vector spaces over $\\mathbb{Z}/2\\mathbb{Z}$. For more background on the math involved see Chapter 3 of [Quantum Computation with Topological Codes: from qubit to topological fault-tolerance](https://arxiv.org/pdf/1504.01444.pdf).\n",
    "\n",
    "At this point we should mention that a list of faces will forms a $2$-chain, and a list of stars (vertices in $\\sigma$) forms a $0$-cochain. From this, aloing with the boundary and coboundary operators we just defined, we can define the Pauli product operators. The first kind of Pauli product operators we define are \n",
    "\n",
    "\\begin{align}\n",
    "W(c_1) = \\bigotimes_{k}W(e_k)^{n(k)},\n",
    "\\end{align}\n",
    "\n",
    "where $n(k) \\in \\{0,1\\}$, and $c_1$ is a \"$1$-chain\" given by a list of edges (each edge corresponding to a pair in $\\alpha$). Each $W_k \\in \\{X_k, Y_k, Z_k\\}$ is a Pauli operator that operates on the $k^{th}$ qubit, where $k$ is the index of the qubit corresponding to an edge. We have can get this index using `node_info`, in particular `alpha_dict`, the middle dictionary, gives us the indices of qubits corresponding to each edge. "
   ]
  },
  {
   "cell_type": "markdown",
   "metadata": {},
   "source": [
    "Now, if we compute the boundary $\\partial_2(c_2)$ of a $2$-chain (given by a list of faces), we will get a $1$-chain. This $1$-chain will be a list of edges that form the boundary of the faces. From this, we can compute the \"**plaquette operators**\", i.e. **face operators**, \n",
    "\n",
    "\\begin{align}\n",
    "Z(\\partial_2f_k) = \\bigotimes_{e_j \\in \\partial_2f_k} Z(e_j)\n",
    "\\end{align}\n",
    "\n",
    "where $\\partial_2f_k$ is the edge list forming the boundary of the face $f_k \\in F$. We can also computer the \"**star operators**\", \n",
    "\n",
    "\\begin{align}\n",
    "X(\\delta_1 v_m) = \\bigotimes_{e_j \\in \\delta_1v_m} X(e_j), \n",
    "\\end{align}\n",
    "\n",
    "where $\\delta_1 v_m$ is the edge list forming the *coboundary* of the vertex $v_m$ (which corresponds to some cycle permutation in $\\sigma$). These form the **stabilizer generators** for the surface code. For a refresher on stabilizer generators we refer to the notebooks on [error correction](https://github.com/The-Singularity-Research/error-correction) and on [graph states](https://github.com/The-Singularity-Research/graph-state-quantum-cryptography/blob/master/certifying_graph_states.ipynb). Now, let's define a Pauli product $Z$ operator $Z(\\partial_2 c_2)$ for the boundary of an arbitray $2$-chain $c_2$, as well as a Pauli product $X$ operator $X(\\delta_1 c_0)$ for the coboundary of an arbitrary $0$-cochain $c_0$. "
   ]
  },
  {
   "cell_type": "code",
   "execution_count": null,
   "metadata": {},
   "outputs": [],
   "source": [
    "'''\n",
    "Pauli product Z operator for arbitrary 2-chain boundary\n",
    "'''\n",
    "def product_Z(faces, surface_code_circuit, surface_code_graph, node_info):\n",
    "    sigma_dict, alpha_dict, phi_dict = node_info\n",
    "    boundary_nodes = del_2(faces, surface_code_graph)\n",
    "    circ = surface_code_circuit\n",
    "    for node in boundary_nodes:\n",
    "        circ.z(alpha_dict[node])\n",
    "    return circ\n",
    "\n",
    "\n",
    "'''\n",
    "Pauli product X operator for arbitrary 0-cochain coboundary\n",
    "'''\n",
    "def product_X(stars, surface_code_circuit, surface_code_graph, node_info):\n",
    "    sigma_dict, alpha_dict, phi_dict = node_info\n",
    "    coboundary_nodes = delta_1(stars, surface_code_graph)\n",
    "    circ = surface_code_circuit\n",
    "    for node in coboundary_nodes:\n",
    "        circ.x(alpha_dict[node])\n",
    "    return circ"
   ]
  },
  {
   "cell_type": "code",
   "execution_count": null,
   "metadata": {},
   "outputs": [],
   "source": [
    "sigma = ((0,1,2), (3,4,5), (6,7,8,9))\n",
    "alpha = ((0,3),(1,4),(2,6),(5,7),(8,9))\n",
    "SCC, G, node_info = surface_code_circuit(sigma, alpha)\n",
    "# SCC.draw(output = 'mpl')"
   ]
  },
  {
   "cell_type": "code",
   "execution_count": null,
   "metadata": {},
   "outputs": [],
   "source": [
    "faces = [(0, 6, 8, 5, 1, 3, 7, 2, 4)]\n",
    "SCC = product_Z(faces, SCC, G, node_info)"
   ]
  },
  {
   "cell_type": "code",
   "execution_count": null,
   "metadata": {},
   "outputs": [],
   "source": [
    "stars = [(0,1,2), (3,4,5)]\n",
    "delta_1(stars, G)"
   ]
  },
  {
   "cell_type": "code",
   "execution_count": null,
   "metadata": {},
   "outputs": [],
   "source": [
    "node_info"
   ]
  },
  {
   "cell_type": "code",
   "execution_count": null,
   "metadata": {},
   "outputs": [],
   "source": [
    "stars = [(0,1,2), (3,4,5)]\n",
    "SCC = product_X(stars, SCC, G, node_info)"
   ]
  },
  {
   "cell_type": "code",
   "execution_count": null,
   "metadata": {},
   "outputs": [],
   "source": [
    "SCC.draw(output = 'mpl')"
   ]
  },
  {
   "cell_type": "markdown",
   "metadata": {},
   "source": [
    "As a future development we will need to implement general qudits in Qiskit in order to build hybrid qudit surface codes. An alternatre approach would be to use Google Cirq as there is functionality for qudits of arbitrary dimension. "
   ]
  },
  {
   "cell_type": "markdown",
   "metadata": {},
   "source": [
    "## References\n",
    "\n",
    "#### Primary\n",
    "[Graphs on Surfaces and Their Applications](https://www-users.cse.umn.edu/~reiner/Classes/Math8680Fall2014Papers/LandoZvonkin.pdf)\n",
    "\n",
    "[Quantum Computation with Topological Codes\n",
    "— from qubit to topological fault-tolerance —](https://arxiv.org/pdf/1504.01444.pdf)\n",
    "\n",
    "#### Secondary\n",
    "\n",
    "[Homological Quantum Codes\n",
    "Beyond the Toric Code](https://arxiv.org/pdf/1802.01520.pdf)"
   ]
  },
  {
   "cell_type": "code",
   "execution_count": null,
   "metadata": {},
   "outputs": [],
   "source": []
  }
 ],
 "metadata": {
  "kernelspec": {
   "display_name": "Python 3.8.5 64-bit ('anaconda3': virtualenv)",
   "language": "python",
   "name": "python385jvsc74a57bd0474c67ce7e36ad5731492349411c4ce02ca5c170a680b2d1efe1eb0325e35fe7"
  },
  "language_info": {
   "codemirror_mode": {
    "name": "ipython",
    "version": 3
   },
   "file_extension": ".py",
   "mimetype": "text/x-python",
   "name": "python",
   "nbconvert_exporter": "python",
   "pygments_lexer": "ipython3",
   "version": "3.9.13"
  }
 },
 "nbformat": 4,
 "nbformat_minor": 4
}
